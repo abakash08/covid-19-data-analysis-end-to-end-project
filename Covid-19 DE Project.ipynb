{
 "cells": [
  {
   "cell_type": "code",
   "execution_count": 38,
   "id": "6584677d-8020-433e-ac41-c20dc59c8ee5",
   "metadata": {},
   "outputs": [],
   "source": [
    "import boto3\n",
    "import pandas as pd\n",
    "from io import StringIO\n",
    "import time"
   ]
  },
  {
   "cell_type": "code",
   "execution_count": 26,
   "id": "e650e797-fa3e-4cc6-a7df-6a219a00805b",
   "metadata": {},
   "outputs": [],
   "source": [
    "AWS_ACCESS_KEY = \"YOUR_ACCESS_KEY\"\n",
    "AWS_SECRET_KEY = \"YOUR_SECRET_KEY\"\n",
    "AWS_REGION = \"us-east-1\"\n",
    "SCHEMA_NAME = \"covid_db\"\n",
    "S3_STAGING_DIR = \"s3://athena-query-result/output/\"\n",
    "S3_BUCKET_NAME = \"athena-query-result\"\n",
    "S3_OUTPUT_DIRECTORY = \"output\""
   ]
  },
  {
   "cell_type": "code",
   "execution_count": 28,
   "id": "1f32353d-fa17-457e-8e6b-93dfd64b4abe",
   "metadata": {},
   "outputs": [],
   "source": [
    "athena_client = boto3.client(\n",
    "    \"athena\",\n",
    "    aws_access_key_id=AWS_ACCESS_KEY,\n",
    "    aws_secret_access_key=AWS_SECRET_KEY,\n",
    "    region_name=AWS_REGION,\n",
    ")"
   ]
  },
  {
   "cell_type": "code",
   "execution_count": 29,
   "id": "34bd04fe-1ff1-4e5e-b23e-28daab93cc63",
   "metadata": {},
   "outputs": [],
   "source": [
    "#Gets the data from athena and converts it into pandas dataframe\n",
    "Dict = {}\n",
    "def download_and_load_query_results(\n",
    "    client: boto3.client, query_response: Dict\n",
    ") -> pd.DataFrame:\n",
    "    while True:\n",
    "        try:\n",
    "            client.get_query_results(QueryExecutionId=query_response[\"QueryExecutionId\"])\n",
    "            break\n",
    "        except Exception as err:\n",
    "            if \"not yet finished\" in str(err):\n",
    "                time.sleep(0.01)\n",
    "            else:\n",
    "                raise err\n",
    "    temp_file_location: str = \"athena_query_results.csv\"\n",
    "    s3_client = boto3.client(\"s3\",\n",
    "                            aws_access_key_id = AWS_ACCESS_KEY,\n",
    "                            aws_secret_access_key = AWS_SECRET_KEY,\n",
    "                            region_name = AWS_REGION,)\n",
    "    s3_client.download_file(S3_BUCKET_NAME,\n",
    "                           f\"{S3_OUTPUT_DIRECTORY}/{query_response['QueryExecutionId']}.csv\",\n",
    "                           temp_file_location,)\n",
    "    return pd.read_csv(temp_file_location)"
   ]
  },
  {
   "cell_type": "code",
   "execution_count": 30,
   "id": "385b4b83-2762-4b85-8cc9-87499829f8b4",
   "metadata": {},
   "outputs": [],
   "source": [
    "response = athena_client.start_query_execution(\n",
    "    QueryString=\"SELECT * FROM enigma_jhud\",\n",
    "    QueryExecutionContext={\"Database\":SCHEMA_NAME},\n",
    "    ResultConfiguration={\"OutputLocation\":S3_STAGING_DIR,\n",
    "                        \"EncryptionConfiguration\":{\"EncryptionOption\":\"SSE_S3\"},\n",
    "                        },\n",
    ")\n"
   ]
  },
  {
   "cell_type": "code",
   "execution_count": 31,
   "id": "92bae78a-098b-413d-aa31-a0ff4b2a9c5c",
   "metadata": {
    "scrolled": true
   },
   "outputs": [],
   "source": [
    "enigma_jhud = download_and_load_query_results(athena_client, response)"
   ]
  },
  {
   "cell_type": "code",
   "execution_count": 39,
   "id": "5e0c03a0-8620-433b-be80-76ef118dcf37",
   "metadata": {},
   "outputs": [],
   "source": [
    "response = athena_client.start_query_execution(\n",
    "    QueryString=\"SELECT * FROM nytimes_data_in_usa_us_county\",\n",
    "    QueryExecutionContext={\"Database\":SCHEMA_NAME},\n",
    "    ResultConfiguration={\"OutputLocation\":S3_STAGING_DIR,\n",
    "                        \"EncryptionConfiguration\":{\"EncryptionOption\":\"SSE_S3\"},\n",
    "                        },\n",
    ")\n",
    "\n",
    "nytimes_data_in_usa_us_county = download_and_load_query_results(athena_client, response)"
   ]
  },
  {
   "cell_type": "code",
   "execution_count": 40,
   "id": "1e019e97-b33d-446b-b988-84d085dc29b1",
   "metadata": {},
   "outputs": [
    {
     "data": {
      "text/html": [
       "<div>\n",
       "<style scoped>\n",
       "    .dataframe tbody tr th:only-of-type {\n",
       "        vertical-align: middle;\n",
       "    }\n",
       "\n",
       "    .dataframe tbody tr th {\n",
       "        vertical-align: top;\n",
       "    }\n",
       "\n",
       "    .dataframe thead th {\n",
       "        text-align: right;\n",
       "    }\n",
       "</style>\n",
       "<table border=\"1\" class=\"dataframe\">\n",
       "  <thead>\n",
       "    <tr style=\"text-align: right;\">\n",
       "      <th></th>\n",
       "      <th>date</th>\n",
       "      <th>county</th>\n",
       "      <th>state</th>\n",
       "      <th>fips</th>\n",
       "      <th>cases</th>\n",
       "      <th>deaths</th>\n",
       "    </tr>\n",
       "  </thead>\n",
       "  <tbody>\n",
       "    <tr>\n",
       "      <th>0</th>\n",
       "      <td>2020-01-21</td>\n",
       "      <td>Snohomish</td>\n",
       "      <td>Washington</td>\n",
       "      <td>53061.0</td>\n",
       "      <td>1.0</td>\n",
       "      <td>0.0</td>\n",
       "    </tr>\n",
       "    <tr>\n",
       "      <th>1</th>\n",
       "      <td>2020-01-22</td>\n",
       "      <td>Snohomish</td>\n",
       "      <td>Washington</td>\n",
       "      <td>53061.0</td>\n",
       "      <td>1.0</td>\n",
       "      <td>0.0</td>\n",
       "    </tr>\n",
       "    <tr>\n",
       "      <th>2</th>\n",
       "      <td>2020-01-23</td>\n",
       "      <td>Snohomish</td>\n",
       "      <td>Washington</td>\n",
       "      <td>53061.0</td>\n",
       "      <td>1.0</td>\n",
       "      <td>0.0</td>\n",
       "    </tr>\n",
       "    <tr>\n",
       "      <th>3</th>\n",
       "      <td>2020-01-24</td>\n",
       "      <td>Cook</td>\n",
       "      <td>Illinois</td>\n",
       "      <td>17031.0</td>\n",
       "      <td>1.0</td>\n",
       "      <td>0.0</td>\n",
       "    </tr>\n",
       "    <tr>\n",
       "      <th>4</th>\n",
       "      <td>2020-01-24</td>\n",
       "      <td>Snohomish</td>\n",
       "      <td>Washington</td>\n",
       "      <td>53061.0</td>\n",
       "      <td>1.0</td>\n",
       "      <td>0.0</td>\n",
       "    </tr>\n",
       "  </tbody>\n",
       "</table>\n",
       "</div>"
      ],
      "text/plain": [
       "         date     county       state     fips  cases  deaths\n",
       "0  2020-01-21  Snohomish  Washington  53061.0    1.0     0.0\n",
       "1  2020-01-22  Snohomish  Washington  53061.0    1.0     0.0\n",
       "2  2020-01-23  Snohomish  Washington  53061.0    1.0     0.0\n",
       "3  2020-01-24       Cook    Illinois  17031.0    1.0     0.0\n",
       "4  2020-01-24  Snohomish  Washington  53061.0    1.0     0.0"
      ]
     },
     "execution_count": 40,
     "metadata": {},
     "output_type": "execute_result"
    }
   ],
   "source": [
    "nytimes_data_in_usa_us_county.head(5)"
   ]
  },
  {
   "cell_type": "code",
   "execution_count": 41,
   "id": "017511bd-3fe6-41c3-88f7-a65542974376",
   "metadata": {},
   "outputs": [],
   "source": [
    "response = athena_client.start_query_execution(\n",
    "    QueryString=\"SELECT * FROM nytimes_data_in_usaus_states\",\n",
    "    QueryExecutionContext={\"Database\":SCHEMA_NAME},\n",
    "    ResultConfiguration={\"OutputLocation\":S3_STAGING_DIR,\n",
    "                        \"EncryptionConfiguration\":{\"EncryptionOption\":\"SSE_S3\"},\n",
    "                        },\n",
    ")\n",
    "\n",
    "nytimes_data_in_usaus_states = download_and_load_query_results(athena_client, response)"
   ]
  },
  {
   "cell_type": "code",
   "execution_count": 43,
   "id": "467b646d-5566-499a-bde5-e544c90d148c",
   "metadata": {},
   "outputs": [],
   "source": [
    "response = athena_client.start_query_execution(\n",
    "    QueryString=\"SELECT * FROM countypopulation\",\n",
    "    QueryExecutionContext={\"Database\":SCHEMA_NAME},\n",
    "    ResultConfiguration={\"OutputLocation\":S3_STAGING_DIR,\n",
    "                        \"EncryptionConfiguration\":{\"EncryptionOption\":\"SSE_S3\"},\n",
    "                        },\n",
    ")\n",
    "\n",
    "countypopulation = download_and_load_query_results(athena_client, response)"
   ]
  },
  {
   "cell_type": "code",
   "execution_count": 52,
   "id": "9a005ed0-995b-4a06-9d54-aa9d5be6ae69",
   "metadata": {},
   "outputs": [],
   "source": [
    "response = athena_client.start_query_execution(\n",
    "    QueryString=\"SELECT * FROM rearc_usa_hospital_beds\",\n",
    "    QueryExecutionContext={\"Database\":SCHEMA_NAME},\n",
    "    ResultConfiguration={\"OutputLocation\":S3_STAGING_DIR,\n",
    "                        \"EncryptionConfiguration\":{\"EncryptionOption\":\"SSE_S3\"},\n",
    "                        },\n",
    ")\n",
    "\n",
    "rearc_usa_hospital_beds = download_and_load_query_results(athena_client, response)"
   ]
  },
  {
   "cell_type": "code",
   "execution_count": 81,
   "id": "9f8cfa69-e935-4ea8-8ce4-dfb9f2c9eb38",
   "metadata": {},
   "outputs": [
    {
     "data": {
      "text/html": [
       "<div>\n",
       "<style scoped>\n",
       "    .dataframe tbody tr th:only-of-type {\n",
       "        vertical-align: middle;\n",
       "    }\n",
       "\n",
       "    .dataframe tbody tr th {\n",
       "        vertical-align: top;\n",
       "    }\n",
       "\n",
       "    .dataframe thead th {\n",
       "        text-align: right;\n",
       "    }\n",
       "</style>\n",
       "<table border=\"1\" class=\"dataframe\">\n",
       "  <thead>\n",
       "    <tr style=\"text-align: right;\">\n",
       "      <th></th>\n",
       "      <th>latitude</th>\n",
       "      <th>longtitude</th>\n",
       "    </tr>\n",
       "  </thead>\n",
       "  <tbody>\n",
       "    <tr>\n",
       "      <th>0</th>\n",
       "      <td>33.495498</td>\n",
       "      <td>-112.066157</td>\n",
       "    </tr>\n",
       "    <tr>\n",
       "      <th>1</th>\n",
       "      <td>32.181263</td>\n",
       "      <td>-110.965885</td>\n",
       "    </tr>\n",
       "  </tbody>\n",
       "</table>\n",
       "</div>"
      ],
      "text/plain": [
       "    latitude  longtitude\n",
       "0  33.495498 -112.066157\n",
       "1  32.181263 -110.965885"
      ]
     },
     "execution_count": 81,
     "metadata": {},
     "output_type": "execute_result"
    }
   ],
   "source": [
    "rearc_usa_hospital_beds[['latitude','longtitude']].head(2)"
   ]
  },
  {
   "cell_type": "code",
   "execution_count": 47,
   "id": "d04da2ff-84c7-44b8-966e-5739815dfdc4",
   "metadata": {},
   "outputs": [],
   "source": [
    "response = athena_client.start_query_execution(\n",
    "    QueryString=\"SELECT * FROM states_daily\",\n",
    "    QueryExecutionContext={\"Database\":SCHEMA_NAME},\n",
    "    ResultConfiguration={\"OutputLocation\":S3_STAGING_DIR,\n",
    "                        \"EncryptionConfiguration\":{\"EncryptionOption\":\"SSE_S3\"},\n",
    "                        },\n",
    ")\n",
    "\n",
    "states_daily = download_and_load_query_results(athena_client, response)\n"
   ]
  },
  {
   "cell_type": "code",
   "execution_count": 71,
   "id": "4abfe980-22b5-4eed-84f8-ee1aea902ec0",
   "metadata": {},
   "outputs": [
    {
     "data": {
      "text/html": [
       "<div>\n",
       "<style scoped>\n",
       "    .dataframe tbody tr th:only-of-type {\n",
       "        vertical-align: middle;\n",
       "    }\n",
       "\n",
       "    .dataframe tbody tr th {\n",
       "        vertical-align: top;\n",
       "    }\n",
       "\n",
       "    .dataframe thead th {\n",
       "        text-align: right;\n",
       "    }\n",
       "</style>\n",
       "<table border=\"1\" class=\"dataframe\">\n",
       "  <thead>\n",
       "    <tr style=\"text-align: right;\">\n",
       "      <th></th>\n",
       "      <th>date</th>\n",
       "      <th>state</th>\n",
       "      <th>positive</th>\n",
       "      <th>probablecases</th>\n",
       "      <th>negative</th>\n",
       "      <th>pending</th>\n",
       "      <th>totaltestresultssource</th>\n",
       "      <th>totaltestresults</th>\n",
       "      <th>hospitalizedcurrently</th>\n",
       "      <th>hospitalizedcumulative</th>\n",
       "      <th>...</th>\n",
       "      <th>dataqualitygrade</th>\n",
       "      <th>deathincrease</th>\n",
       "      <th>hospitalizedincrease</th>\n",
       "      <th>hash</th>\n",
       "      <th>commercialscore</th>\n",
       "      <th>negativeregularscore</th>\n",
       "      <th>negativescore</th>\n",
       "      <th>positivescore</th>\n",
       "      <th>score</th>\n",
       "      <th>grade</th>\n",
       "    </tr>\n",
       "  </thead>\n",
       "  <tbody>\n",
       "    <tr>\n",
       "      <th>0</th>\n",
       "      <td>20210307</td>\n",
       "      <td>AK</td>\n",
       "      <td>56886</td>\n",
       "      <td>NaN</td>\n",
       "      <td>NaN</td>\n",
       "      <td>NaN</td>\n",
       "      <td>totalTestsViral</td>\n",
       "      <td>1731628</td>\n",
       "      <td>33.0</td>\n",
       "      <td>1293.0</td>\n",
       "      <td>...</td>\n",
       "      <td>NaN</td>\n",
       "      <td>0.0</td>\n",
       "      <td>0.0</td>\n",
       "      <td>dc4bccd4bb885349d7e94d6fed058e285d4be164</td>\n",
       "      <td>0.0</td>\n",
       "      <td>0.0</td>\n",
       "      <td>0.0</td>\n",
       "      <td>0.0</td>\n",
       "      <td>0.0</td>\n",
       "      <td>NaN</td>\n",
       "    </tr>\n",
       "    <tr>\n",
       "      <th>1</th>\n",
       "      <td>20210307</td>\n",
       "      <td>AL</td>\n",
       "      <td>499819</td>\n",
       "      <td>107742.0</td>\n",
       "      <td>1931711.0</td>\n",
       "      <td>NaN</td>\n",
       "      <td>totalTestsPeopleViral</td>\n",
       "      <td>2323788</td>\n",
       "      <td>494.0</td>\n",
       "      <td>45976.0</td>\n",
       "      <td>...</td>\n",
       "      <td>NaN</td>\n",
       "      <td>-1.0</td>\n",
       "      <td>0.0</td>\n",
       "      <td>997207b430824ea40b8eb8506c19a93e07bc972e</td>\n",
       "      <td>0.0</td>\n",
       "      <td>0.0</td>\n",
       "      <td>0.0</td>\n",
       "      <td>0.0</td>\n",
       "      <td>0.0</td>\n",
       "      <td>NaN</td>\n",
       "    </tr>\n",
       "    <tr>\n",
       "      <th>2</th>\n",
       "      <td>20210307</td>\n",
       "      <td>AR</td>\n",
       "      <td>324818</td>\n",
       "      <td>69092.0</td>\n",
       "      <td>2480716.0</td>\n",
       "      <td>NaN</td>\n",
       "      <td>totalTestsViral</td>\n",
       "      <td>2736442</td>\n",
       "      <td>335.0</td>\n",
       "      <td>14926.0</td>\n",
       "      <td>...</td>\n",
       "      <td>NaN</td>\n",
       "      <td>22.0</td>\n",
       "      <td>11.0</td>\n",
       "      <td>50921aeefba3e30d31623aa495b47fb2ecc72fae</td>\n",
       "      <td>0.0</td>\n",
       "      <td>0.0</td>\n",
       "      <td>0.0</td>\n",
       "      <td>0.0</td>\n",
       "      <td>0.0</td>\n",
       "      <td>NaN</td>\n",
       "    </tr>\n",
       "    <tr>\n",
       "      <th>3</th>\n",
       "      <td>20210307</td>\n",
       "      <td>AS</td>\n",
       "      <td>0</td>\n",
       "      <td>NaN</td>\n",
       "      <td>2140.0</td>\n",
       "      <td>NaN</td>\n",
       "      <td>totalTestsViral</td>\n",
       "      <td>2140</td>\n",
       "      <td>NaN</td>\n",
       "      <td>NaN</td>\n",
       "      <td>...</td>\n",
       "      <td>NaN</td>\n",
       "      <td>0.0</td>\n",
       "      <td>0.0</td>\n",
       "      <td>96d23f888c995b9a7f3b4b864de6414f45c728ff</td>\n",
       "      <td>0.0</td>\n",
       "      <td>0.0</td>\n",
       "      <td>0.0</td>\n",
       "      <td>0.0</td>\n",
       "      <td>0.0</td>\n",
       "      <td>NaN</td>\n",
       "    </tr>\n",
       "    <tr>\n",
       "      <th>4</th>\n",
       "      <td>20210307</td>\n",
       "      <td>AZ</td>\n",
       "      <td>826454</td>\n",
       "      <td>56519.0</td>\n",
       "      <td>3073010.0</td>\n",
       "      <td>NaN</td>\n",
       "      <td>totalTestsViral</td>\n",
       "      <td>7908105</td>\n",
       "      <td>963.0</td>\n",
       "      <td>57907.0</td>\n",
       "      <td>...</td>\n",
       "      <td>NaN</td>\n",
       "      <td>5.0</td>\n",
       "      <td>44.0</td>\n",
       "      <td>0437a7a96f4471666f775e63e86923eb5cbd8cdf</td>\n",
       "      <td>0.0</td>\n",
       "      <td>0.0</td>\n",
       "      <td>0.0</td>\n",
       "      <td>0.0</td>\n",
       "      <td>0.0</td>\n",
       "      <td>NaN</td>\n",
       "    </tr>\n",
       "  </tbody>\n",
       "</table>\n",
       "<p>5 rows × 56 columns</p>\n",
       "</div>"
      ],
      "text/plain": [
       "       date state  positive  probablecases   negative  pending  \\\n",
       "0  20210307    AK     56886            NaN        NaN      NaN   \n",
       "1  20210307    AL    499819       107742.0  1931711.0      NaN   \n",
       "2  20210307    AR    324818        69092.0  2480716.0      NaN   \n",
       "3  20210307    AS         0            NaN     2140.0      NaN   \n",
       "4  20210307    AZ    826454        56519.0  3073010.0      NaN   \n",
       "\n",
       "  totaltestresultssource  totaltestresults  hospitalizedcurrently  \\\n",
       "0        totalTestsViral           1731628                   33.0   \n",
       "1  totalTestsPeopleViral           2323788                  494.0   \n",
       "2        totalTestsViral           2736442                  335.0   \n",
       "3        totalTestsViral              2140                    NaN   \n",
       "4        totalTestsViral           7908105                  963.0   \n",
       "\n",
       "   hospitalizedcumulative  ...  dataqualitygrade  deathincrease  \\\n",
       "0                  1293.0  ...               NaN            0.0   \n",
       "1                 45976.0  ...               NaN           -1.0   \n",
       "2                 14926.0  ...               NaN           22.0   \n",
       "3                     NaN  ...               NaN            0.0   \n",
       "4                 57907.0  ...               NaN            5.0   \n",
       "\n",
       "   hospitalizedincrease                                      hash  \\\n",
       "0                   0.0  dc4bccd4bb885349d7e94d6fed058e285d4be164   \n",
       "1                   0.0  997207b430824ea40b8eb8506c19a93e07bc972e   \n",
       "2                  11.0  50921aeefba3e30d31623aa495b47fb2ecc72fae   \n",
       "3                   0.0  96d23f888c995b9a7f3b4b864de6414f45c728ff   \n",
       "4                  44.0  0437a7a96f4471666f775e63e86923eb5cbd8cdf   \n",
       "\n",
       "   commercialscore negativeregularscore negativescore positivescore  score  \\\n",
       "0              0.0                  0.0           0.0           0.0    0.0   \n",
       "1              0.0                  0.0           0.0           0.0    0.0   \n",
       "2              0.0                  0.0           0.0           0.0    0.0   \n",
       "3              0.0                  0.0           0.0           0.0    0.0   \n",
       "4              0.0                  0.0           0.0           0.0    0.0   \n",
       "\n",
       "   grade  \n",
       "0    NaN  \n",
       "1    NaN  \n",
       "2    NaN  \n",
       "3    NaN  \n",
       "4    NaN  \n",
       "\n",
       "[5 rows x 56 columns]"
      ]
     },
     "execution_count": 71,
     "metadata": {},
     "output_type": "execute_result"
    }
   ],
   "source": [
    "states_daily.head(5)"
   ]
  },
  {
   "cell_type": "code",
   "execution_count": 49,
   "id": "a418b59d-e3f7-46e3-b40c-b264a4f21f99",
   "metadata": {},
   "outputs": [],
   "source": [
    "response = athena_client.start_query_execution(\n",
    "    QueryString=\"SELECT * FROM us_daily\",\n",
    "    QueryExecutionContext={\"Database\":SCHEMA_NAME},\n",
    "    ResultConfiguration={\"OutputLocation\":S3_STAGING_DIR,\n",
    "                        \"EncryptionConfiguration\":{\"EncryptionOption\":\"SSE_S3\"},\n",
    "                        },\n",
    ")\n",
    "\n",
    "us_daily = download_and_load_query_results(athena_client, response)"
   ]
  },
  {
   "cell_type": "code",
   "execution_count": 70,
   "id": "e44d802a-1824-4030-95fd-906be2b3bce5",
   "metadata": {},
   "outputs": [
    {
     "data": {
      "text/html": [
       "<div>\n",
       "<style scoped>\n",
       "    .dataframe tbody tr th:only-of-type {\n",
       "        vertical-align: middle;\n",
       "    }\n",
       "\n",
       "    .dataframe tbody tr th {\n",
       "        vertical-align: top;\n",
       "    }\n",
       "\n",
       "    .dataframe thead th {\n",
       "        text-align: right;\n",
       "    }\n",
       "</style>\n",
       "<table border=\"1\" class=\"dataframe\">\n",
       "  <thead>\n",
       "    <tr style=\"text-align: right;\">\n",
       "      <th></th>\n",
       "      <th>date</th>\n",
       "      <th>states</th>\n",
       "      <th>positive</th>\n",
       "      <th>negative</th>\n",
       "      <th>pending</th>\n",
       "      <th>hospitalizedcurrently</th>\n",
       "      <th>hospitalizedcumulative</th>\n",
       "      <th>inicucurrently</th>\n",
       "      <th>inicucumulative</th>\n",
       "      <th>onventilatorcurrently</th>\n",
       "      <th>...</th>\n",
       "      <th>lastmodified</th>\n",
       "      <th>recovered</th>\n",
       "      <th>total</th>\n",
       "      <th>posneg</th>\n",
       "      <th>deathincrease</th>\n",
       "      <th>hospitalizedincrease</th>\n",
       "      <th>negativeincrease</th>\n",
       "      <th>positiveincrease</th>\n",
       "      <th>totaltestresultsincrease</th>\n",
       "      <th>hash</th>\n",
       "    </tr>\n",
       "  </thead>\n",
       "  <tbody>\n",
       "    <tr>\n",
       "      <th>0</th>\n",
       "      <td>20210307</td>\n",
       "      <td>56</td>\n",
       "      <td>28755524.0</td>\n",
       "      <td>74579770.0</td>\n",
       "      <td>11808.0</td>\n",
       "      <td>40212.0</td>\n",
       "      <td>878613.0</td>\n",
       "      <td>8137.0</td>\n",
       "      <td>45475.0</td>\n",
       "      <td>2801.0</td>\n",
       "      <td>...</td>\n",
       "      <td>2021-03-07T24:00:00Z</td>\n",
       "      <td>NaN</td>\n",
       "      <td>0</td>\n",
       "      <td>0</td>\n",
       "      <td>839</td>\n",
       "      <td>726</td>\n",
       "      <td>130414</td>\n",
       "      <td>41265</td>\n",
       "      <td>1156241</td>\n",
       "      <td>8b26839690cd05c0cef69cb9ed85641a76b5e78e</td>\n",
       "    </tr>\n",
       "    <tr>\n",
       "      <th>1</th>\n",
       "      <td>20210306</td>\n",
       "      <td>56</td>\n",
       "      <td>28714259.0</td>\n",
       "      <td>74449356.0</td>\n",
       "      <td>11783.0</td>\n",
       "      <td>41401.0</td>\n",
       "      <td>877887.0</td>\n",
       "      <td>8409.0</td>\n",
       "      <td>45453.0</td>\n",
       "      <td>2811.0</td>\n",
       "      <td>...</td>\n",
       "      <td>2021-03-06T24:00:00Z</td>\n",
       "      <td>NaN</td>\n",
       "      <td>0</td>\n",
       "      <td>0</td>\n",
       "      <td>1674</td>\n",
       "      <td>503</td>\n",
       "      <td>142201</td>\n",
       "      <td>59620</td>\n",
       "      <td>1409138</td>\n",
       "      <td>d0c0482ea549c9d5c04a7c86acb6fc6a8095a592</td>\n",
       "    </tr>\n",
       "    <tr>\n",
       "      <th>2</th>\n",
       "      <td>20210305</td>\n",
       "      <td>56</td>\n",
       "      <td>28654639.0</td>\n",
       "      <td>74307155.0</td>\n",
       "      <td>12213.0</td>\n",
       "      <td>42541.0</td>\n",
       "      <td>877384.0</td>\n",
       "      <td>8634.0</td>\n",
       "      <td>45373.0</td>\n",
       "      <td>2889.0</td>\n",
       "      <td>...</td>\n",
       "      <td>2021-03-05T24:00:00Z</td>\n",
       "      <td>NaN</td>\n",
       "      <td>0</td>\n",
       "      <td>0</td>\n",
       "      <td>2221</td>\n",
       "      <td>2781</td>\n",
       "      <td>271917</td>\n",
       "      <td>68787</td>\n",
       "      <td>1744417</td>\n",
       "      <td>a35ea4289cec4bb55c9f29ae04ec0fd5ac4e0222</td>\n",
       "    </tr>\n",
       "    <tr>\n",
       "      <th>3</th>\n",
       "      <td>20210304</td>\n",
       "      <td>56</td>\n",
       "      <td>28585852.0</td>\n",
       "      <td>74035238.0</td>\n",
       "      <td>12405.0</td>\n",
       "      <td>44172.0</td>\n",
       "      <td>874603.0</td>\n",
       "      <td>8970.0</td>\n",
       "      <td>45293.0</td>\n",
       "      <td>2973.0</td>\n",
       "      <td>...</td>\n",
       "      <td>2021-03-04T24:00:00Z</td>\n",
       "      <td>NaN</td>\n",
       "      <td>0</td>\n",
       "      <td>0</td>\n",
       "      <td>1743</td>\n",
       "      <td>1530</td>\n",
       "      <td>177957</td>\n",
       "      <td>65487</td>\n",
       "      <td>1590984</td>\n",
       "      <td>a19ad6379a653834cbda3093791ad2c3b9fab5ff</td>\n",
       "    </tr>\n",
       "    <tr>\n",
       "      <th>4</th>\n",
       "      <td>20210303</td>\n",
       "      <td>56</td>\n",
       "      <td>28520365.0</td>\n",
       "      <td>73857281.0</td>\n",
       "      <td>11778.0</td>\n",
       "      <td>45462.0</td>\n",
       "      <td>873073.0</td>\n",
       "      <td>9359.0</td>\n",
       "      <td>45214.0</td>\n",
       "      <td>3094.0</td>\n",
       "      <td>...</td>\n",
       "      <td>2021-03-03T24:00:00Z</td>\n",
       "      <td>NaN</td>\n",
       "      <td>0</td>\n",
       "      <td>0</td>\n",
       "      <td>2449</td>\n",
       "      <td>2172</td>\n",
       "      <td>267001</td>\n",
       "      <td>66836</td>\n",
       "      <td>1406795</td>\n",
       "      <td>9e1d2afda1b0ec243060d6f68a7134d011c0cb2a</td>\n",
       "    </tr>\n",
       "  </tbody>\n",
       "</table>\n",
       "<p>5 rows × 25 columns</p>\n",
       "</div>"
      ],
      "text/plain": [
       "       date  states    positive    negative  pending  hospitalizedcurrently  \\\n",
       "0  20210307      56  28755524.0  74579770.0  11808.0                40212.0   \n",
       "1  20210306      56  28714259.0  74449356.0  11783.0                41401.0   \n",
       "2  20210305      56  28654639.0  74307155.0  12213.0                42541.0   \n",
       "3  20210304      56  28585852.0  74035238.0  12405.0                44172.0   \n",
       "4  20210303      56  28520365.0  73857281.0  11778.0                45462.0   \n",
       "\n",
       "   hospitalizedcumulative  inicucurrently  inicucumulative  \\\n",
       "0                878613.0          8137.0          45475.0   \n",
       "1                877887.0          8409.0          45453.0   \n",
       "2                877384.0          8634.0          45373.0   \n",
       "3                874603.0          8970.0          45293.0   \n",
       "4                873073.0          9359.0          45214.0   \n",
       "\n",
       "   onventilatorcurrently  ...          lastmodified recovered  total  posneg  \\\n",
       "0                 2801.0  ...  2021-03-07T24:00:00Z       NaN      0       0   \n",
       "1                 2811.0  ...  2021-03-06T24:00:00Z       NaN      0       0   \n",
       "2                 2889.0  ...  2021-03-05T24:00:00Z       NaN      0       0   \n",
       "3                 2973.0  ...  2021-03-04T24:00:00Z       NaN      0       0   \n",
       "4                 3094.0  ...  2021-03-03T24:00:00Z       NaN      0       0   \n",
       "\n",
       "   deathincrease hospitalizedincrease  negativeincrease  positiveincrease  \\\n",
       "0            839                  726            130414             41265   \n",
       "1           1674                  503            142201             59620   \n",
       "2           2221                 2781            271917             68787   \n",
       "3           1743                 1530            177957             65487   \n",
       "4           2449                 2172            267001             66836   \n",
       "\n",
       "   totaltestresultsincrease                                      hash  \n",
       "0                   1156241  8b26839690cd05c0cef69cb9ed85641a76b5e78e  \n",
       "1                   1409138  d0c0482ea549c9d5c04a7c86acb6fc6a8095a592  \n",
       "2                   1744417  a35ea4289cec4bb55c9f29ae04ec0fd5ac4e0222  \n",
       "3                   1590984  a19ad6379a653834cbda3093791ad2c3b9fab5ff  \n",
       "4                   1406795  9e1d2afda1b0ec243060d6f68a7134d011c0cb2a  \n",
       "\n",
       "[5 rows x 25 columns]"
      ]
     },
     "execution_count": 70,
     "metadata": {},
     "output_type": "execute_result"
    }
   ],
   "source": [
    "us_daily.head(5)"
   ]
  },
  {
   "cell_type": "code",
   "execution_count": 51,
   "id": "5585fcdf-2288-4942-b11d-6d03c3eca6d2",
   "metadata": {},
   "outputs": [],
   "source": [
    "response = athena_client.start_query_execution(\n",
    "    QueryString=\"SELECT * FROM us_total_latest\",\n",
    "    QueryExecutionContext={\"Database\":SCHEMA_NAME},\n",
    "    ResultConfiguration={\"OutputLocation\":S3_STAGING_DIR,\n",
    "                        \"EncryptionConfiguration\":{\"EncryptionOption\":\"SSE_S3\"},\n",
    "                        },\n",
    ")\n",
    "\n",
    "us_total_latest = download_and_load_query_results(athena_client, response)"
   ]
  },
  {
   "cell_type": "code",
   "execution_count": 63,
   "id": "31186489-c590-4da6-a89e-ea9eb6dcea05",
   "metadata": {},
   "outputs": [],
   "source": [
    "response = athena_client.start_query_execution(\n",
    "    QueryString=\"SELECT * FROM state_abv\",\n",
    "    QueryExecutionContext={\"Database\":SCHEMA_NAME},\n",
    "    ResultConfiguration={\"OutputLocation\":S3_STAGING_DIR,\n",
    "                        \"EncryptionConfiguration\":{\"EncryptionOption\":\"SSE_S3\"},\n",
    "                        },\n",
    ")\n",
    "\n",
    "state_abv = download_and_load_query_results(athena_client, response)"
   ]
  },
  {
   "cell_type": "code",
   "execution_count": 64,
   "id": "4efbc3e6-070d-429f-808b-33d5b932535f",
   "metadata": {},
   "outputs": [
    {
     "data": {
      "text/html": [
       "<div>\n",
       "<style scoped>\n",
       "    .dataframe tbody tr th:only-of-type {\n",
       "        vertical-align: middle;\n",
       "    }\n",
       "\n",
       "    .dataframe tbody tr th {\n",
       "        vertical-align: top;\n",
       "    }\n",
       "\n",
       "    .dataframe thead th {\n",
       "        text-align: right;\n",
       "    }\n",
       "</style>\n",
       "<table border=\"1\" class=\"dataframe\">\n",
       "  <thead>\n",
       "    <tr style=\"text-align: right;\">\n",
       "      <th></th>\n",
       "      <th>col0</th>\n",
       "      <th>col1</th>\n",
       "    </tr>\n",
       "  </thead>\n",
       "  <tbody>\n",
       "    <tr>\n",
       "      <th>0</th>\n",
       "      <td>State</td>\n",
       "      <td>Abbreviation</td>\n",
       "    </tr>\n",
       "    <tr>\n",
       "      <th>1</th>\n",
       "      <td>Alabama</td>\n",
       "      <td>AL</td>\n",
       "    </tr>\n",
       "    <tr>\n",
       "      <th>2</th>\n",
       "      <td>Alaska</td>\n",
       "      <td>AK</td>\n",
       "    </tr>\n",
       "    <tr>\n",
       "      <th>3</th>\n",
       "      <td>Arizona</td>\n",
       "      <td>AZ</td>\n",
       "    </tr>\n",
       "    <tr>\n",
       "      <th>4</th>\n",
       "      <td>Arkansas</td>\n",
       "      <td>AR</td>\n",
       "    </tr>\n",
       "  </tbody>\n",
       "</table>\n",
       "</div>"
      ],
      "text/plain": [
       "       col0          col1\n",
       "0     State  Abbreviation\n",
       "1   Alabama            AL\n",
       "2    Alaska            AK\n",
       "3   Arizona            AZ\n",
       "4  Arkansas            AR"
      ]
     },
     "execution_count": 64,
     "metadata": {},
     "output_type": "execute_result"
    }
   ],
   "source": [
    "state_abv.head(5)"
   ]
  },
  {
   "cell_type": "code",
   "execution_count": 65,
   "id": "26c05dc4-eac6-49db-aeef-f7006226b2e3",
   "metadata": {},
   "outputs": [],
   "source": [
    "new_header = state_abv.iloc[0] #grab the first row of the header\n",
    "state_abv = state_abv[1:] #take the data after header row\n",
    "state_abv.columns = new_header"
   ]
  },
  {
   "cell_type": "code",
   "execution_count": 68,
   "id": "746e2d47-0bfb-408b-aa3c-54a3c86ffe00",
   "metadata": {},
   "outputs": [
    {
     "data": {
      "text/html": [
       "<div>\n",
       "<style scoped>\n",
       "    .dataframe tbody tr th:only-of-type {\n",
       "        vertical-align: middle;\n",
       "    }\n",
       "\n",
       "    .dataframe tbody tr th {\n",
       "        vertical-align: top;\n",
       "    }\n",
       "\n",
       "    .dataframe thead th {\n",
       "        text-align: right;\n",
       "    }\n",
       "</style>\n",
       "<table border=\"1\" class=\"dataframe\">\n",
       "  <thead>\n",
       "    <tr style=\"text-align: right;\">\n",
       "      <th></th>\n",
       "      <th>State</th>\n",
       "      <th>Abbreviation</th>\n",
       "    </tr>\n",
       "  </thead>\n",
       "  <tbody>\n",
       "    <tr>\n",
       "      <th>1</th>\n",
       "      <td>Alabama</td>\n",
       "      <td>AL</td>\n",
       "    </tr>\n",
       "    <tr>\n",
       "      <th>2</th>\n",
       "      <td>Alaska</td>\n",
       "      <td>AK</td>\n",
       "    </tr>\n",
       "    <tr>\n",
       "      <th>3</th>\n",
       "      <td>Arizona</td>\n",
       "      <td>AZ</td>\n",
       "    </tr>\n",
       "    <tr>\n",
       "      <th>4</th>\n",
       "      <td>Arkansas</td>\n",
       "      <td>AR</td>\n",
       "    </tr>\n",
       "    <tr>\n",
       "      <th>5</th>\n",
       "      <td>California</td>\n",
       "      <td>CA</td>\n",
       "    </tr>\n",
       "  </tbody>\n",
       "</table>\n",
       "</div>"
      ],
      "text/plain": [
       "0       State Abbreviation\n",
       "1     Alabama           AL\n",
       "2      Alaska           AK\n",
       "3     Arizona           AZ\n",
       "4    Arkansas           AR\n",
       "5  California           CA"
      ]
     },
     "execution_count": 68,
     "metadata": {},
     "output_type": "execute_result"
    }
   ],
   "source": [
    "state_abv.head(5)"
   ]
  },
  {
   "cell_type": "code",
   "execution_count": 73,
   "id": "5185358d-0d00-4b9b-ac73-346aaed03f31",
   "metadata": {},
   "outputs": [],
   "source": [
    "#Building Dimensional Model\n",
    "factCovid_1 = enigma_jhud[['fips','province_state','country_region','confirmed','deaths','recovered','active']]\n",
    "factCovid_2 = states_daily[['fips','date','positive','negative','hospitalizedcurrently','hospitalized','hospitalizeddischarged']]\n",
    "factCovid = pd.merge(factCovid_1,factCovid_2,on='fips',how='inner')"
   ]
  },
  {
   "cell_type": "code",
   "execution_count": 75,
   "id": "fec0e258-923c-4eb0-a589-d1ff6d59afe9",
   "metadata": {},
   "outputs": [
    {
     "data": {
      "text/plain": [
       "(8435, 13)"
      ]
     },
     "execution_count": 75,
     "metadata": {},
     "output_type": "execute_result"
    }
   ],
   "source": [
    "factCovid.shape"
   ]
  },
  {
   "cell_type": "code",
   "execution_count": 76,
   "id": "35f9e95d-9ff4-4660-800c-7111dd92bef6",
   "metadata": {},
   "outputs": [],
   "source": [
    "dimRegion_1 = enigma_jhud[['fips','province_state','country_region','latitude','longitude']]\n",
    "dimRegion_2 = nytimes_data_in_usa_us_county[['fips','county','state']]\n",
    "dimRegion = pd.merge(dimRegion_1,dimRegion_2,on='fips',how='inner')"
   ]
  },
  {
   "cell_type": "code",
   "execution_count": null,
   "id": "4a5ca923-9c5a-4418-9579-d4f85a2ce0cd",
   "metadata": {},
   "outputs": [],
   "source": []
  },
  {
   "cell_type": "code",
   "execution_count": 83,
   "id": "e0b6c786-ca2b-440a-b606-008d2e8df0d2",
   "metadata": {},
   "outputs": [],
   "source": [
    "dimHospital = rearc_usa_hospital_beds[['fips','state_name','latitude','longtitude','hq_address','hospital_name','hospital_type','hq_city','hq_state']]"
   ]
  },
  {
   "cell_type": "code",
   "execution_count": 109,
   "id": "3867f858-7926-4f74-a7a1-c039ad277b74",
   "metadata": {},
   "outputs": [],
   "source": [
    "dimDate = states_daily[['fips','date']]"
   ]
  },
  {
   "cell_type": "code",
   "execution_count": 110,
   "id": "90e0c041-aa90-47e3-a13e-410f01a6d33b",
   "metadata": {},
   "outputs": [
    {
     "data": {
      "text/html": [
       "<div>\n",
       "<style scoped>\n",
       "    .dataframe tbody tr th:only-of-type {\n",
       "        vertical-align: middle;\n",
       "    }\n",
       "\n",
       "    .dataframe tbody tr th {\n",
       "        vertical-align: top;\n",
       "    }\n",
       "\n",
       "    .dataframe thead th {\n",
       "        text-align: right;\n",
       "    }\n",
       "</style>\n",
       "<table border=\"1\" class=\"dataframe\">\n",
       "  <thead>\n",
       "    <tr style=\"text-align: right;\">\n",
       "      <th></th>\n",
       "      <th>fips</th>\n",
       "      <th>date</th>\n",
       "    </tr>\n",
       "  </thead>\n",
       "  <tbody>\n",
       "    <tr>\n",
       "      <th>0</th>\n",
       "      <td>2.0</td>\n",
       "      <td>20210307</td>\n",
       "    </tr>\n",
       "    <tr>\n",
       "      <th>1</th>\n",
       "      <td>1.0</td>\n",
       "      <td>20210307</td>\n",
       "    </tr>\n",
       "    <tr>\n",
       "      <th>2</th>\n",
       "      <td>5.0</td>\n",
       "      <td>20210307</td>\n",
       "    </tr>\n",
       "    <tr>\n",
       "      <th>3</th>\n",
       "      <td>60.0</td>\n",
       "      <td>20210307</td>\n",
       "    </tr>\n",
       "    <tr>\n",
       "      <th>4</th>\n",
       "      <td>4.0</td>\n",
       "      <td>20210307</td>\n",
       "    </tr>\n",
       "  </tbody>\n",
       "</table>\n",
       "</div>"
      ],
      "text/plain": [
       "   fips      date\n",
       "0   2.0  20210307\n",
       "1   1.0  20210307\n",
       "2   5.0  20210307\n",
       "3  60.0  20210307\n",
       "4   4.0  20210307"
      ]
     },
     "execution_count": 110,
     "metadata": {},
     "output_type": "execute_result"
    }
   ],
   "source": [
    "dimDate.head()"
   ]
  },
  {
   "cell_type": "code",
   "execution_count": 111,
   "id": "28dfdac3-a1a2-438f-a562-f776a524ab29",
   "metadata": {},
   "outputs": [
    {
     "name": "stderr",
     "output_type": "stream",
     "text": [
      "C:\\Users\\HP\\AppData\\Local\\Temp\\ipykernel_14436\\572748324.py:1: SettingWithCopyWarning: \n",
      "A value is trying to be set on a copy of a slice from a DataFrame.\n",
      "Try using .loc[row_indexer,col_indexer] = value instead\n",
      "\n",
      "See the caveats in the documentation: https://pandas.pydata.org/pandas-docs/stable/user_guide/indexing.html#returning-a-view-versus-a-copy\n",
      "  dimDate['date'] = pd.to_datetime(dimDate['date'], format='%Y%m%d')\n"
     ]
    }
   ],
   "source": [
    "dimDate['date'] = pd.to_datetime(dimDate['date'], format='%Y%m%d')"
   ]
  },
  {
   "cell_type": "code",
   "execution_count": 112,
   "id": "a351b396-116b-49e4-aca0-6b684812e516",
   "metadata": {},
   "outputs": [
    {
     "name": "stdout",
     "output_type": "stream",
     "text": [
      "<class 'pandas.core.frame.DataFrame'>\n",
      "RangeIndex: 2685 entries, 0 to 2684\n",
      "Data columns (total 2 columns):\n",
      " #   Column  Non-Null Count  Dtype         \n",
      "---  ------  --------------  -----         \n",
      " 0   fips    2684 non-null   float64       \n",
      " 1   date    2685 non-null   datetime64[ns]\n",
      "dtypes: datetime64[ns](1), float64(1)\n",
      "memory usage: 42.1 KB\n"
     ]
    }
   ],
   "source": [
    "dimDate.info()"
   ]
  },
  {
   "cell_type": "code",
   "execution_count": 113,
   "id": "21536319-c504-4745-ba59-7045c88b4ea5",
   "metadata": {},
   "outputs": [
    {
     "name": "stdout",
     "output_type": "stream",
     "text": [
      "<class 'pandas.core.frame.DataFrame'>\n",
      "RangeIndex: 2685 entries, 0 to 2684\n",
      "Data columns (total 2 columns):\n",
      " #   Column  Non-Null Count  Dtype         \n",
      "---  ------  --------------  -----         \n",
      " 0   fips    2684 non-null   float64       \n",
      " 1   date    2685 non-null   datetime64[ns]\n",
      "dtypes: datetime64[ns](1), float64(1)\n",
      "memory usage: 42.1 KB\n"
     ]
    },
    {
     "name": "stderr",
     "output_type": "stream",
     "text": [
      "C:\\Users\\HP\\AppData\\Local\\Temp\\ipykernel_14436\\1278584356.py:2: SettingWithCopyWarning: \n",
      "A value is trying to be set on a copy of a slice from a DataFrame.\n",
      "Try using .loc[row_indexer,col_indexer] = value instead\n",
      "\n",
      "See the caveats in the documentation: https://pandas.pydata.org/pandas-docs/stable/user_guide/indexing.html#returning-a-view-versus-a-copy\n",
      "  dimDate['day_of_week'] = dimDate['date'].dt.dayofweek\n"
     ]
    }
   ],
   "source": [
    "dimDate.info()\n",
    "dimDate['day_of_week'] = dimDate['date'].dt.dayofweek"
   ]
  },
  {
   "cell_type": "code",
   "execution_count": 115,
   "id": "12e08cd4-55a6-48ad-9ddf-6ba7ddcdb723",
   "metadata": {},
   "outputs": [
    {
     "name": "stderr",
     "output_type": "stream",
     "text": [
      "C:\\Users\\HP\\AppData\\Local\\Temp\\ipykernel_14436\\1393740675.py:1: SettingWithCopyWarning: \n",
      "A value is trying to be set on a copy of a slice from a DataFrame.\n",
      "Try using .loc[row_indexer,col_indexer] = value instead\n",
      "\n",
      "See the caveats in the documentation: https://pandas.pydata.org/pandas-docs/stable/user_guide/indexing.html#returning-a-view-versus-a-copy\n",
      "  dimDate['Year'] = dimDate['date'].dt.year\n"
     ]
    }
   ],
   "source": [
    "dimDate['Year'] = dimDate['date'].dt.year"
   ]
  },
  {
   "cell_type": "code",
   "execution_count": 116,
   "id": "02af19e9-c6b1-4ee5-afaf-e214a835f36a",
   "metadata": {},
   "outputs": [
    {
     "name": "stderr",
     "output_type": "stream",
     "text": [
      "C:\\Users\\HP\\AppData\\Local\\Temp\\ipykernel_14436\\1629772348.py:1: SettingWithCopyWarning: \n",
      "A value is trying to be set on a copy of a slice from a DataFrame.\n",
      "Try using .loc[row_indexer,col_indexer] = value instead\n",
      "\n",
      "See the caveats in the documentation: https://pandas.pydata.org/pandas-docs/stable/user_guide/indexing.html#returning-a-view-versus-a-copy\n",
      "  dimDate['Month'] = dimDate['date'].dt.month\n"
     ]
    }
   ],
   "source": [
    "dimDate['Month'] = dimDate['date'].dt.month"
   ]
  },
  {
   "cell_type": "code",
   "execution_count": 117,
   "id": "0a30986f-c500-470a-942c-b15b7ad1094e",
   "metadata": {},
   "outputs": [
    {
     "data": {
      "text/html": [
       "<div>\n",
       "<style scoped>\n",
       "    .dataframe tbody tr th:only-of-type {\n",
       "        vertical-align: middle;\n",
       "    }\n",
       "\n",
       "    .dataframe tbody tr th {\n",
       "        vertical-align: top;\n",
       "    }\n",
       "\n",
       "    .dataframe thead th {\n",
       "        text-align: right;\n",
       "    }\n",
       "</style>\n",
       "<table border=\"1\" class=\"dataframe\">\n",
       "  <thead>\n",
       "    <tr style=\"text-align: right;\">\n",
       "      <th></th>\n",
       "      <th>fips</th>\n",
       "      <th>date</th>\n",
       "      <th>day_of_week</th>\n",
       "      <th>Year</th>\n",
       "      <th>Month</th>\n",
       "    </tr>\n",
       "  </thead>\n",
       "  <tbody>\n",
       "    <tr>\n",
       "      <th>0</th>\n",
       "      <td>2.0</td>\n",
       "      <td>2021-03-07</td>\n",
       "      <td>6</td>\n",
       "      <td>2021</td>\n",
       "      <td>3</td>\n",
       "    </tr>\n",
       "    <tr>\n",
       "      <th>1</th>\n",
       "      <td>1.0</td>\n",
       "      <td>2021-03-07</td>\n",
       "      <td>6</td>\n",
       "      <td>2021</td>\n",
       "      <td>3</td>\n",
       "    </tr>\n",
       "    <tr>\n",
       "      <th>2</th>\n",
       "      <td>5.0</td>\n",
       "      <td>2021-03-07</td>\n",
       "      <td>6</td>\n",
       "      <td>2021</td>\n",
       "      <td>3</td>\n",
       "    </tr>\n",
       "    <tr>\n",
       "      <th>3</th>\n",
       "      <td>60.0</td>\n",
       "      <td>2021-03-07</td>\n",
       "      <td>6</td>\n",
       "      <td>2021</td>\n",
       "      <td>3</td>\n",
       "    </tr>\n",
       "    <tr>\n",
       "      <th>4</th>\n",
       "      <td>4.0</td>\n",
       "      <td>2021-03-07</td>\n",
       "      <td>6</td>\n",
       "      <td>2021</td>\n",
       "      <td>3</td>\n",
       "    </tr>\n",
       "  </tbody>\n",
       "</table>\n",
       "</div>"
      ],
      "text/plain": [
       "   fips       date  day_of_week  Year  Month\n",
       "0   2.0 2021-03-07            6  2021      3\n",
       "1   1.0 2021-03-07            6  2021      3\n",
       "2   5.0 2021-03-07            6  2021      3\n",
       "3  60.0 2021-03-07            6  2021      3\n",
       "4   4.0 2021-03-07            6  2021      3"
      ]
     },
     "execution_count": 117,
     "metadata": {},
     "output_type": "execute_result"
    }
   ],
   "source": [
    "dimDate.head()"
   ]
  },
  {
   "cell_type": "code",
   "execution_count": 120,
   "id": "04a39c7a-2db1-45dd-a5d4-293152b8bfcb",
   "metadata": {},
   "outputs": [
    {
     "data": {
      "text/plain": [
       "{'ResponseMetadata': {'RequestId': 'NJ5C9S80MAMC19EY',\n",
       "  'HostId': 'icVrZxbEjepiujCDrH/QfAir31caWzyu8+cH1U4tiVVTW3pBel7Vifx+5GxzjLqEGAzR9HfVNcI=',\n",
       "  'HTTPStatusCode': 200,\n",
       "  'HTTPHeaders': {'x-amz-id-2': 'icVrZxbEjepiujCDrH/QfAir31caWzyu8+cH1U4tiVVTW3pBel7Vifx+5GxzjLqEGAzR9HfVNcI=',\n",
       "   'x-amz-request-id': 'NJ5C9S80MAMC19EY',\n",
       "   'date': 'Thu, 02 Nov 2023 05:18:54 GMT',\n",
       "   'x-amz-server-side-encryption': 'AES256',\n",
       "   'etag': '\"6ee424f7de879bc8a0c8a26f495d6e79\"',\n",
       "   'server': 'AmazonS3',\n",
       "   'content-length': '0'},\n",
       "  'RetryAttempts': 1},\n",
       " 'ETag': '\"6ee424f7de879bc8a0c8a26f495d6e79\"',\n",
       " 'ServerSideEncryption': 'AES256'}"
      ]
     },
     "execution_count": 120,
     "metadata": {},
     "output_type": "execute_result"
    }
   ],
   "source": [
    "#Loading to S3\n",
    "bucket = 'abakash-de-covid-project'\n",
    "csv_buffer = StringIO()\n",
    "factCovid.to_csv(csv_buffer)\n",
    "s3_resource = boto3.resource('s3')\n",
    "s3_resource.Object(bucket,'output/factCovid.csv').put(Body=csv_buffer.getvalue())"
   ]
  },
  {
   "cell_type": "code",
   "execution_count": 121,
   "id": "e0766047-3c02-4126-846b-ab9ad39e69bf",
   "metadata": {},
   "outputs": [
    {
     "data": {
      "text/plain": [
       "{'ResponseMetadata': {'RequestId': 'PDAY6J1M0CDYP825',\n",
       "  'HostId': '6iAjI9S6ZoUxIDjkrc5sNdcVmKkla2pZVICkcbn0e2I06LenFmpzepH7LnUj63fIdiyghDY1oBA=',\n",
       "  'HTTPStatusCode': 200,\n",
       "  'HTTPHeaders': {'x-amz-id-2': '6iAjI9S6ZoUxIDjkrc5sNdcVmKkla2pZVICkcbn0e2I06LenFmpzepH7LnUj63fIdiyghDY1oBA=',\n",
       "   'x-amz-request-id': 'PDAY6J1M0CDYP825',\n",
       "   'date': 'Thu, 02 Nov 2023 05:23:06 GMT',\n",
       "   'x-amz-server-side-encryption': 'AES256',\n",
       "   'etag': '\"3195fa217e14f434fdb397ee89ad9ff8\"',\n",
       "   'server': 'AmazonS3',\n",
       "   'content-length': '0'},\n",
       "  'RetryAttempts': 2},\n",
       " 'ETag': '\"3195fa217e14f434fdb397ee89ad9ff8\"',\n",
       " 'ServerSideEncryption': 'AES256'}"
      ]
     },
     "execution_count": 121,
     "metadata": {},
     "output_type": "execute_result"
    }
   ],
   "source": [
    "bucket = 'abakash-de-covid-project'\n",
    "csv_buffer = StringIO()\n",
    "dimDate.to_csv(csv_buffer)\n",
    "s3_resource = boto3.resource('s3')\n",
    "s3_resource.Object(bucket,'output/dimDate.csv').put(Body=csv_buffer.getvalue())"
   ]
  },
  {
   "cell_type": "code",
   "execution_count": 122,
   "id": "438834be-adb0-4549-961d-cf9915c50505",
   "metadata": {},
   "outputs": [
    {
     "data": {
      "text/plain": [
       "{'ResponseMetadata': {'RequestId': '3K7PCKMEP4QKSDGG',\n",
       "  'HostId': 'N58e4tcIG64txYN3oCBbCGGkOXV8fp0RpfojZP+9NEDiEI925gW1tjZuhByte3GY3E2S03XZYQs=',\n",
       "  'HTTPStatusCode': 200,\n",
       "  'HTTPHeaders': {'x-amz-id-2': 'N58e4tcIG64txYN3oCBbCGGkOXV8fp0RpfojZP+9NEDiEI925gW1tjZuhByte3GY3E2S03XZYQs=',\n",
       "   'x-amz-request-id': '3K7PCKMEP4QKSDGG',\n",
       "   'date': 'Thu, 02 Nov 2023 05:24:10 GMT',\n",
       "   'x-amz-server-side-encryption': 'AES256',\n",
       "   'etag': '\"e81caded3358841b6b8f6a6b8920270b\"',\n",
       "   'server': 'AmazonS3',\n",
       "   'content-length': '0'},\n",
       "  'RetryAttempts': 1},\n",
       " 'ETag': '\"e81caded3358841b6b8f6a6b8920270b\"',\n",
       " 'ServerSideEncryption': 'AES256'}"
      ]
     },
     "execution_count": 122,
     "metadata": {},
     "output_type": "execute_result"
    }
   ],
   "source": [
    "bucket = 'abakash-de-covid-project'\n",
    "csv_buffer = StringIO()\n",
    "dimHospital.to_csv(csv_buffer)\n",
    "s3_resource = boto3.resource('s3')\n",
    "s3_resource.Object(bucket,'output/dimHospital.csv').put(Body=csv_buffer.getvalue())"
   ]
  },
  {
   "cell_type": "code",
   "execution_count": 123,
   "id": "4827f307-3867-4f86-9e47-652ca139c37b",
   "metadata": {},
   "outputs": [
    {
     "data": {
      "text/plain": [
       "{'ResponseMetadata': {'RequestId': 'B4HRHRJEJ46BBJXA',\n",
       "  'HostId': 'Nc9/ZIyTdmDDAOOkDzuqT5fD+Jjhbidj1coB0KiVfw0LfMIej56rvBajz0SAgZ/aXp06hBlibQo=',\n",
       "  'HTTPStatusCode': 200,\n",
       "  'HTTPHeaders': {'x-amz-id-2': 'Nc9/ZIyTdmDDAOOkDzuqT5fD+Jjhbidj1coB0KiVfw0LfMIej56rvBajz0SAgZ/aXp06hBlibQo=',\n",
       "   'x-amz-request-id': 'B4HRHRJEJ46BBJXA',\n",
       "   'date': 'Thu, 02 Nov 2023 06:03:07 GMT',\n",
       "   'x-amz-server-side-encryption': 'AES256',\n",
       "   'etag': '\"68178b0eac7079bf1c8e4b41933e1798\"',\n",
       "   'server': 'AmazonS3',\n",
       "   'content-length': '0',\n",
       "   'connection': 'close'},\n",
       "  'RetryAttempts': 3},\n",
       " 'ETag': '\"68178b0eac7079bf1c8e4b41933e1798\"',\n",
       " 'ServerSideEncryption': 'AES256'}"
      ]
     },
     "execution_count": 123,
     "metadata": {},
     "output_type": "execute_result"
    }
   ],
   "source": [
    "bucket = 'abakash-de-covid-project'\n",
    "csv_buffer = StringIO()\n",
    "dimRegion.to_csv(csv_buffer)\n",
    "s3_resource = boto3.resource('s3')\n",
    "s3_resource.Object(bucket,'output/dimRegion.csv').put(Body=csv_buffer.getvalue())"
   ]
  },
  {
   "cell_type": "code",
   "execution_count": 125,
   "id": "954b33f6-1601-4e78-857b-a74996290d0d",
   "metadata": {},
   "outputs": [
    {
     "name": "stdout",
     "output_type": "stream",
     "text": [
      "CREATE TABLE \"dimDate\" (\n",
      "\"index\" INTEGER,\n",
      "  \"fips\" REAL,\n",
      "  \"date\" TIMESTAMP,\n",
      "  \"day_of_week\" INTEGER,\n",
      "  \"Year\" INTEGER,\n",
      "  \"Month\" INTEGER\n",
      ")\n"
     ]
    }
   ],
   "source": [
    "#Extracting Schema from dataset\n",
    "dimDatesql = pd.io.sql.get_schema(dimDate.reset_index(),'dimDate')\n",
    "print(dimDatesql)"
   ]
  },
  {
   "cell_type": "code",
   "execution_count": 128,
   "id": "a66ac5f2-627f-49d6-afde-91198e3a633e",
   "metadata": {},
   "outputs": [
    {
     "name": "stdout",
     "output_type": "stream",
     "text": [
      "CREATE TABLE \"factCovid\" (\n",
      "\"index\" INTEGER,\n",
      "  \"fips\" REAL,\n",
      "  \"province_state\" TEXT,\n",
      "  \"country_region\" TEXT,\n",
      "  \"confirmed\" REAL,\n",
      "  \"deaths\" REAL,\n",
      "  \"recovered\" REAL,\n",
      "  \"active\" REAL,\n",
      "  \"date\" INTEGER,\n",
      "  \"positive\" INTEGER,\n",
      "  \"negative\" REAL,\n",
      "  \"hospitalizedcurrently\" REAL,\n",
      "  \"hospitalized\" REAL,\n",
      "  \"hospitalizeddischarged\" REAL\n",
      ")\n"
     ]
    }
   ],
   "source": [
    "factCovidsql = pd.io.sql.get_schema(factCovid.reset_index(),'factCovid')\n",
    "print(factCovidsql)"
   ]
  },
  {
   "cell_type": "code",
   "execution_count": 129,
   "id": "c50e6523-32e3-4724-843e-511ac9faa010",
   "metadata": {},
   "outputs": [
    {
     "name": "stdout",
     "output_type": "stream",
     "text": [
      "CREATE TABLE \"dimRegion\" (\n",
      "\"index\" INTEGER,\n",
      "  \"fips\" REAL,\n",
      "  \"province_state\" TEXT,\n",
      "  \"country_region\" TEXT,\n",
      "  \"latitude\" REAL,\n",
      "  \"longitude\" REAL,\n",
      "  \"county\" TEXT,\n",
      "  \"state\" TEXT\n",
      ")\n"
     ]
    }
   ],
   "source": [
    "dimRegionsql = pd.io.sql.get_schema(dimRegion.reset_index(),'dimRegion')\n",
    "print(dimRegionsql)\n"
   ]
  },
  {
   "cell_type": "code",
   "execution_count": 130,
   "id": "3c8aa99a-cd4a-4436-bebc-26707f4afc7a",
   "metadata": {},
   "outputs": [
    {
     "name": "stdout",
     "output_type": "stream",
     "text": [
      "CREATE TABLE \"dimHospital\" (\n",
      "\"index\" INTEGER,\n",
      "  \"fips\" INTEGER,\n",
      "  \"state_name\" TEXT,\n",
      "  \"latitude\" REAL,\n",
      "  \"longtitude\" REAL,\n",
      "  \"hq_address\" TEXT,\n",
      "  \"hospital_name\" TEXT,\n",
      "  \"hospital_type\" TEXT,\n",
      "  \"hq_city\" TEXT,\n",
      "  \"hq_state\" TEXT\n",
      ")\n"
     ]
    }
   ],
   "source": [
    "dimHospitalsql = pd.io.sql.get_schema(dimHospital.reset_index(),'dimHospital')\n",
    "print(dimHospitalsql)"
   ]
  },
  {
   "cell_type": "code",
   "execution_count": null,
   "id": "f7bb5681-c048-401f-b87e-46dd2ef658a2",
   "metadata": {},
   "outputs": [],
   "source": []
  },
  {
   "cell_type": "code",
   "execution_count": null,
   "id": "f8c5f015-5928-4c64-9e90-215011df7361",
   "metadata": {},
   "outputs": [],
   "source": []
  },
  {
   "cell_type": "code",
   "execution_count": null,
   "id": "c339c9a7-c1d4-4bc3-a08c-b04047a988dd",
   "metadata": {},
   "outputs": [],
   "source": []
  },
  {
   "cell_type": "code",
   "execution_count": null,
   "id": "65af27ae-62a8-4f30-9654-47baa42a1311",
   "metadata": {},
   "outputs": [],
   "source": []
  }
 ],
 "metadata": {
  "kernelspec": {
   "display_name": "Python 3 (ipykernel)",
   "language": "python",
   "name": "python3"
  },
  "language_info": {
   "codemirror_mode": {
    "name": "ipython",
    "version": 3
   },
   "file_extension": ".py",
   "mimetype": "text/x-python",
   "name": "python",
   "nbconvert_exporter": "python",
   "pygments_lexer": "ipython3",
   "version": "3.11.2"
  }
 },
 "nbformat": 4,
 "nbformat_minor": 5
}
